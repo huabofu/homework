{
  "nbformat": 4,
  "nbformat_minor": 0,
  "metadata": {
    "colab": {
      "provenance": [],
      "gpuType": "T4",
      "authorship_tag": "ABX9TyOcFkqQihFKv7uWZTYPqFS6",
      "include_colab_link": true
    },
    "kernelspec": {
      "name": "python3",
      "display_name": "Python 3"
    },
    "language_info": {
      "name": "python"
    },
    "accelerator": "GPU"
  },
  "cells": [
    {
      "cell_type": "markdown",
      "metadata": {
        "id": "view-in-github",
        "colab_type": "text"
      },
      "source": [
        "<a href=\"https://colab.research.google.com/github/huabofu/homework/blob/main/%E6%9C%9F%E6%9C%AB%E5%AF%A6%E4%BD%9C.ipynb\" target=\"_parent\"><img src=\"https://colab.research.google.com/assets/colab-badge.svg\" alt=\"Open In Colab\"/></a>"
      ]
    },
    {
      "cell_type": "code",
      "execution_count": 19,
      "metadata": {
        "colab": {
          "base_uri": "https://localhost:8080/"
        },
        "id": "0GmNJ9aecW7Z",
        "outputId": "a163b9cc-646b-4ce7-ad41-5656c1198d03"
      },
      "outputs": [
        {
          "output_type": "stream",
          "name": "stdout",
          "text": [
            "最佳路徑順序：\n",
            "A -> E -> D -> C -> B -> F -> G -> A\n",
            "總花費： 48944.57613804574\n"
          ]
        }
      ],
      "source": [
        "import math\n",
        "\n",
        "class City:\n",
        "    def __init__(self, name, coordinates, accommodation_cost):\n",
        "        self.name = name\n",
        "        self.coordinates = coordinates\n",
        "        self.accommodation_cost = accommodation_cost\n",
        "\n",
        "    def get_discounted_cost(self, previous_city):\n",
        "        discount = 0.8  # 80% 折扣\n",
        "        if previous_city is None:\n",
        "            return self.accommodation_cost\n",
        "        elif previous_city.name in ['C', 'G'] and self.name == 'A':\n",
        "            return self.accommodation_cost * discount\n",
        "        elif previous_city.name in ['A', 'B'] and self.name == 'C':\n",
        "            return self.accommodation_cost * discount\n",
        "        elif previous_city.name in ['A', 'C'] and self.name == 'D':\n",
        "            return self.accommodation_cost * discount\n",
        "        elif previous_city.name in ['B', 'F'] and self.name == 'E':\n",
        "            return self.accommodation_cost * discount\n",
        "        elif previous_city.name in ['E', 'F'] and self.name == 'G':\n",
        "            return self.accommodation_cost * discount\n",
        "        else:\n",
        "            return self.accommodation_cost\n",
        "\n",
        "def find_cheapest_route(cities, current_city, visited_cities, total_cost):\n",
        "    visited_cities.append(current_city)\n",
        "\n",
        "    if len(visited_cities) == len(cities):\n",
        "        print(\"最佳路徑順序：\")\n",
        "        for city in visited_cities:\n",
        "            print(city.name, end=\" -> \")\n",
        "        print(visited_cities[0].name)\n",
        "\n",
        "        print(\"總花費：\", total_cost)\n",
        "        return\n",
        "\n",
        "    remaining_cities = [city for city in cities if city not in visited_cities]\n",
        "    cheapest_cost = math.inf\n",
        "    cheapest_route = None\n",
        "\n",
        "    for city in remaining_cities:\n",
        "        distance = calculate_distance(current_city.coordinates, city.coordinates)\n",
        "        cost = distance * 100 + city.get_discounted_cost(current_city)\n",
        "\n",
        "        if cost < cheapest_cost:\n",
        "            cheapest_cost = cost\n",
        "            cheapest_route = city\n",
        "\n",
        "    find_cheapest_route(cities, cheapest_route, visited_cities, total_cost + cheapest_cost)\n",
        "\n",
        "def calculate_distance(coordinates1, coordinates2):\n",
        "    x1, y1 = coordinates1\n",
        "    x2, y2 = coordinates2\n",
        "    distance = math.sqrt((x2 - x1) ** 2 + (y2 - y1) ** 2)\n",
        "    return distance\n",
        "\n",
        "# 建立城市物件\n",
        "city_a = City('A', (0, 0), 2000)\n",
        "city_b = City('B', (0, 120), 2400)\n",
        "city_c = City('C', (30, 100), 2400)\n",
        "city_d = City('D', (80, 0), 1600)\n",
        "city_e = City('E', (45, 10), 1500)\n",
        "city_f = City('F', (90, 160), 2200)\n",
        "city_g = City('G', (120, 200), 1200)\n",
        "\n",
        "# 建立城市清單\n",
        "cities = [city_a, city_b, city_c, city_d, city_e, city_f, city_g]\n",
        "\n",
        "# 選擇出發城市\n",
        "start_city = city_a\n",
        "\n",
        "# 初始化變數\n",
        "visited_cities = []\n",
        "\n",
        "# 尋找最佳路徑\n",
        "find_cheapest_route(cities, start_city, visited_cities, 0)\n",
        "\n"
      ]
    }
  ]
}